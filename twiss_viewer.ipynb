{
 "cells": [
  {
   "cell_type": "markdown",
   "metadata": {},
   "source": [
    "# Twiss viewer\n",
    "### Interactive plot of twiss parameter\n",
    "\n",
    "**Setup:**\n",
    "- Install C compiler: `apt install gcc`\n",
    "- Install apace:`pip install -U apace`\n",
    "\n",
    "For more info see https://apace.readthedocs.io/en/latest/"
   ]
  },
  {
   "cell_type": "code",
   "execution_count": null,
   "metadata": {},
   "outputs": [],
   "source": [
    "import requests\n",
    "from ipywidgets import Dropdown\n",
    "from IPython.display import display"
   ]
  },
  {
   "cell_type": "markdown",
   "metadata": {},
   "source": [
    "### Select lattice from database"
   ]
  },
  {
   "cell_type": "code",
   "execution_count": null,
   "metadata": {},
   "outputs": [],
   "source": [
    "response = requests.get(\"https://api.github.com/repos/NoBeam/lattices/contents\").json()\n",
    "menu = Dropdown(description='Lattice:', options=[(item[\"name\"], item[\"download_url\"]) for item in response])\n",
    "display(menu)"
   ]
  },
  {
   "cell_type": "markdown",
   "metadata": {},
   "source": [
    "### Fetch lattice file and initilize lattice object"
   ]
  },
  {
   "cell_type": "code",
   "execution_count": null,
   "metadata": {},
   "outputs": [],
   "source": [
    "import apace as ap\n",
    "url = menu.value\n",
    "bessy2 = ap.Lattice.from_file(url)\n",
    "twiss = ap.Twiss(bessy2)\n",
    "\n",
    "def update_twiss_plot():\n",
    "    for ax in fig.axes:\n",
    "        for line, data in zip(ax.lines[3:], (twiss.beta_x, twiss.beta_y, twiss.eta_x * 10)):\n",
    "            line.set_data(twiss.s, data)\n",
    "\n",
    "    fig.canvas.draw_idle()\n",
    "\n",
    "def create_widgets(elements):\n",
    "    from ipywidgets import BoundedFloatText, Layout, Box, Button\n",
    "    widgets = []\n",
    "    for element in elements:\n",
    "            text = BoundedFloatText(element.k1, description=element.name, min=-5, max=5, step=0.01)\n",
    "            initial_k1 = element.k1\n",
    "            button = Button(description=f\"{initial_k1:.3f}\", icon=\"undo\", disabled=True)\n",
    "            widgets.append(Box(children=(text, button)))\n",
    "            \n",
    "            def on_value_changed(change, element=element, button=button):  # avoid closure late binding\n",
    "                element.k1 = change.new\n",
    "                button.disabled = False\n",
    "                button.button_style = \"danger\"\n",
    "                update_twiss_plot()\n",
    "                \n",
    "            def on_button_click(button, text=text, element=element, initial_k1=initial_k1):\n",
    "                text.value = initial_k1\n",
    "                element.k1 = initial_k1\n",
    "                button.button_style = \"\"\n",
    "                button.disabled = True\n",
    "            \n",
    "            text.observe(on_value_changed, \"value\")\n",
    "            button.on_click(on_button_click)\n",
    "            \n",
    "\n",
    "    layout = Layout(display=\"grid\", grid_template_columns='repeat(3, 1fr)')\n",
    "    return Box(children=widgets, layout=layout)"
   ]
  },
  {
   "cell_type": "markdown",
   "metadata": {},
   "source": [
    "### Create interacitve plot"
   ]
  },
  {
   "cell_type": "code",
   "execution_count": null,
   "metadata": {
    "scrolled": false
   },
   "outputs": [],
   "source": [
    "%matplotlib notebook\n",
    "from apace.plot import twiss_plot\n",
    "\n",
    "fig = twiss_plot(twiss, ref_twiss=twiss, sections=(30,60), fig_size=(9,5))\n",
    "create_widgets(element for element in bessy2.elements if isinstance(element, ap.Quadrupole))"
   ]
  },
  {
   "cell_type": "markdown",
   "metadata": {},
   "source": [
    "### Export lattice object as LatticeJSON file\n",
    "- You can use `latticejson autoformat /path/to/file.json` to a cleaned up file"
   ]
  },
  {
   "cell_type": "code",
   "execution_count": null,
   "metadata": {},
   "outputs": [],
   "source": [
    "bessy2.as_dict()"
   ]
  }
 ],
 "metadata": {
  "kernelspec": {
   "display_name": "Python 3",
   "language": "python",
   "name": "python3"
  },
  "language_info": {
   "codemirror_mode": {
    "name": "ipython",
    "version": 3
   },
   "file_extension": ".py",
   "mimetype": "text/x-python",
   "name": "python",
   "nbconvert_exporter": "python",
   "pygments_lexer": "ipython3",
   "version": "3.7.4"
  }
 },
 "nbformat": 4,
 "nbformat_minor": 4
}
