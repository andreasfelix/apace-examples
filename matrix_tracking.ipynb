{
 "cells": [
  {
   "cell_type": "markdown",
   "metadata": {},
   "source": [
    "\n",
    "# FODO lattice\n",
    "\n",
    "\n",
    "This example notebook demonstrates as a basic example how sphinx-nbexamples\n",
    "works.\n"
   ]
  },
  {
   "cell_type": "code",
   "execution_count": 1,
   "metadata": {},
   "outputs": [
    {
     "ename": "FileNotFoundError",
     "evalue": "[Errno 2] No such file or directory: 'lattices/fodo_ring.json'",
     "output_type": "error",
     "traceback": [
      "\u001b[0;31m---------------------------------------------------------------------------\u001b[0m",
      "\u001b[0;31mFileNotFoundError\u001b[0m                         Traceback (most recent call last)",
      "\u001b[0;32m<ipython-input-1-604946f95c8c>\u001b[0m in \u001b[0;36m<module>\u001b[0;34m\u001b[0m\n\u001b[1;32m      8\u001b[0m \u001b[0;34m\u001b[0m\u001b[0m\n\u001b[1;32m      9\u001b[0m \u001b[0mfile_path\u001b[0m \u001b[0;34m=\u001b[0m \u001b[0mos\u001b[0m\u001b[0;34m.\u001b[0m\u001b[0mpath\u001b[0m\u001b[0;34m.\u001b[0m\u001b[0mjoin\u001b[0m\u001b[0;34m(\u001b[0m\u001b[0;34m\"lattices\"\u001b[0m\u001b[0;34m,\u001b[0m \u001b[0;34m\"fodo_ring.json\"\u001b[0m\u001b[0;34m)\u001b[0m\u001b[0;34m\u001b[0m\u001b[0;34m\u001b[0m\u001b[0m\n\u001b[0;32m---> 10\u001b[0;31m \u001b[0mfodo\u001b[0m \u001b[0;34m=\u001b[0m \u001b[0map\u001b[0m\u001b[0;34m.\u001b[0m\u001b[0mload_lattice\u001b[0m\u001b[0;34m(\u001b[0m\u001b[0mfile_path\u001b[0m\u001b[0;34m)\u001b[0m\u001b[0;34m\u001b[0m\u001b[0;34m\u001b[0m\u001b[0m\n\u001b[0m",
      "\u001b[0;32m~/Git/andreasfelix/apace/apace/io.py\u001b[0m in \u001b[0;36mload_lattice\u001b[0;34m(file_path, file_format)\u001b[0m\n\u001b[1;32m     16\u001b[0m     \"\"\"\n\u001b[1;32m     17\u001b[0m     \u001b[0;32mif\u001b[0m \u001b[0mfile_format\u001b[0m \u001b[0;34m==\u001b[0m \u001b[0;34m\"json\"\u001b[0m\u001b[0;34m:\u001b[0m\u001b[0;34m\u001b[0m\u001b[0;34m\u001b[0m\u001b[0m\n\u001b[0;32m---> 18\u001b[0;31m         \u001b[0;32mreturn\u001b[0m \u001b[0mread_lattice_file_json\u001b[0m\u001b[0;34m(\u001b[0m\u001b[0mfile_path\u001b[0m\u001b[0;34m)\u001b[0m\u001b[0;34m\u001b[0m\u001b[0;34m\u001b[0m\u001b[0m\n\u001b[0m\u001b[1;32m     19\u001b[0m     \u001b[0;32melif\u001b[0m \u001b[0mfile_format\u001b[0m \u001b[0;34m==\u001b[0m \u001b[0;34m\"fle\"\u001b[0m\u001b[0;34m:\u001b[0m\u001b[0;34m\u001b[0m\u001b[0;34m\u001b[0m\u001b[0m\n\u001b[1;32m     20\u001b[0m         \u001b[0;32mreturn\u001b[0m \u001b[0mread_lattice_file_fle\u001b[0m\u001b[0;34m(\u001b[0m\u001b[0mfile_path\u001b[0m\u001b[0;34m)\u001b[0m\u001b[0;34m\u001b[0m\u001b[0;34m\u001b[0m\u001b[0m\n",
      "\u001b[0;32m~/Git/andreasfelix/apace/apace/io.py\u001b[0m in \u001b[0;36mread_lattice_file_json\u001b[0;34m(file_path)\u001b[0m\n\u001b[1;32m     89\u001b[0m \u001b[0;34m\u001b[0m\u001b[0m\n\u001b[1;32m     90\u001b[0m \u001b[0;32mdef\u001b[0m \u001b[0mread_lattice_file_json\u001b[0m\u001b[0;34m(\u001b[0m\u001b[0mfile_path\u001b[0m\u001b[0;34m)\u001b[0m\u001b[0;34m:\u001b[0m\u001b[0;34m\u001b[0m\u001b[0;34m\u001b[0m\u001b[0m\n\u001b[0;32m---> 91\u001b[0;31m     \u001b[0;32mwith\u001b[0m \u001b[0mopen\u001b[0m\u001b[0;34m(\u001b[0m\u001b[0mfile_path\u001b[0m\u001b[0;34m)\u001b[0m \u001b[0;32mas\u001b[0m \u001b[0mfile\u001b[0m\u001b[0;34m:\u001b[0m\u001b[0;34m\u001b[0m\u001b[0;34m\u001b[0m\u001b[0m\n\u001b[0m\u001b[1;32m     92\u001b[0m         \u001b[0mlattice_dict\u001b[0m \u001b[0;34m=\u001b[0m \u001b[0mjson\u001b[0m\u001b[0;34m.\u001b[0m\u001b[0mload\u001b[0m\u001b[0;34m(\u001b[0m\u001b[0mfile\u001b[0m\u001b[0;34m)\u001b[0m\u001b[0;34m\u001b[0m\u001b[0;34m\u001b[0m\u001b[0m\n\u001b[1;32m     93\u001b[0m \u001b[0;34m\u001b[0m\u001b[0m\n",
      "\u001b[0;31mFileNotFoundError\u001b[0m: [Errno 2] No such file or directory: 'lattices/fodo_ring.json'"
     ]
    }
   ],
   "source": [
    "import numpy as np\n",
    "from scipy.fftpack import fft\n",
    "import matplotlib.pyplot as plt\n",
    "import os\n",
    "from math import sqrt\n",
    "\n",
    "import apace as ap\n",
    "\n",
    "file_path = os.path.join(\"lattices\", \"fodo_ring.json\")\n",
    "fodo = ap.load_lattice(file_path)"
   ]
  },
  {
   "cell_type": "markdown",
   "metadata": {},
   "source": [
    "### Example 1: Get tune from Fourier-Transform of transversal particle offset at fixed position"
   ]
  },
  {
   "cell_type": "code",
   "execution_count": 0,
   "metadata": {},
   "outputs": [],
   "source": [
    "n_particles = 5\n",
    "n_turns = 20\n",
    "position = 0\n",
    "particles = ap.create_particle_distribution(\n",
    "    n_particles, x_dist=\"uniform\", x_width=0.02, x_center=0.01\n",
    ")\n",
    "matrix_tracking = ap.MatrixTracking(fodo, particles, turns=n_turns, positions=0)\n",
    "tracking_data = matrix_tracking.particle_trajectories\n",
    "\n",
    "# Plot x-x' phase space\n",
    "plt.subplot(2, 2, 1)\n",
    "\n",
    "for i in range(n_particles):\n",
    "    plt.plot(tracking_data[:, 0, i], tracking_data[:, 1, i], \"o\")\n",
    "\n",
    "plt.xlabel(\"x / m\")\n",
    "plt.ylabel(\"x'\")\n",
    "\n",
    "freq = np.linspace(0.0, 1.0 / (2.0 * fodo.length / 299_792_458), n_turns // 2)\n",
    "fft_tracking = 2.0 / n_turns * np.abs(fft(tracking_data[:, 0, -1])[: n_turns // 2])\n",
    "main_freq = freq[np.argmax(fft_tracking)]\n",
    "\n",
    "# Plot horizontal frequency spectrum\n",
    "plt.subplot(2, 2, 2)\n",
    "plt.plot(freq, fft_tracking)\n",
    "plt.xlabel(\"Freq / Hz\")\n",
    "plt.ylabel(\"Fourier transform\")\n",
    "plt.axvline(x=main_freq, color=\"k\")\n",
    "\n",
    "# Plot horizontal offset for fixed position\n",
    "plt.subplot(2, 2, 3)\n",
    "plt.plot(matrix_tracking.orbit_position, tracking_data[:, 0, -1], 'rx')\n",
    "plt.xlabel(f\"orbit position / s\")\n",
    "plt.ylabel(f\"horizontal offset x at fixed position {position} / m\")\n",
    "\n",
    "# Plot horizontal offset for multiple positions\n",
    "matrix_tracking_all_positions = ap.MatrixTracking(fodo, particles, turns=n_turns, positions=None)\n",
    "track_all_positions = matrix_tracking_all_positions.particle_trajectories\n",
    "\n",
    "plt.subplot(2, 2, 4)\n",
    "plt.plot(matrix_tracking_all_positions.orbit_position, track_all_positions[:, 0, -1], linewidth=0.5)\n",
    "plt.plot(matrix_tracking.orbit_position, tracking_data[:, 0, -1], 'rx')\n",
    "plt.xlabel(\"orbit position / s\")\n",
    "plt.ylabel(\"horizontal offset for all positions / m\")\n",
    "\n",
    "\n",
    "plt.gcf().set_size_inches(16, 8)\n",
    "plt.tight_layout()"
   ]
  },
  {
   "cell_type": "markdown",
   "metadata": {},
   "source": [
    "### Example 2: Beam envelope from beta functions"
   ]
  },
  {
   "cell_type": "code",
   "execution_count": 0,
   "metadata": {},
   "outputs": [],
   "source": [
    "x_width = 0.02\n",
    "n_turns = 3\n",
    "dist = ap.create_particle_distribution(20, x_dist=\"uniform\", x_width=x_width)\n",
    "matrix_tracking = ap.MatrixTracking(fodo, dist, turns=n_turns, positions=None)\n",
    "twiss = ap.Twiss(fodo)\n",
    "\n",
    "fig, ax = plt.subplots()\n",
    "ax.plot(matrix_tracking.orbit_position, matrix_tracking.x, linewidth=0.5)\n",
    "beam_size = np.sqrt(twiss.beta_x) * (x_width / 2 / sqrt(twiss.beta_x[0]))\n",
    "\n",
    "ax.axvline(x=0, color=\"k\", linestyle=\"--\", linewidth=0.5)\n",
    "for i in range(n_turns):\n",
    "    s = twiss.s + fodo.length * i\n",
    "    ax.plot(s, beam_size, \"k--\", s, -beam_size, \"k--\", linewidth=1.0)\n",
    "    ax.axvline(x=fodo.length * (i + 1), color=\"k\", linestyle=\"--\", linewidth=1.0)\n",
    "\n",
    "plt.gcf().set_size_inches(16, 7)\n",
    "fig.tight_layout()"
   ]
  }
 ],
 "metadata": {
  "kernelspec": {
   "display_name": "Python 3",
   "language": "python",
   "name": "python3"
  },
  "language_info": {
   "codemirror_mode": {
    "name": "ipython",
    "version": 3
   },
   "file_extension": ".py",
   "mimetype": "text/x-python",
   "name": "python",
   "nbconvert_exporter": "python",
   "pygments_lexer": "ipython3",
   "version": "3.7.4"
  }
 },
 "nbformat": 4,
 "nbformat_minor": 4
}