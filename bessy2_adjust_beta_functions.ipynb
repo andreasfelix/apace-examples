{
 "cells": [
  {
   "cell_type": "markdown",
   "metadata": {},
   "source": [
    "# Adjust beta functions of the BESSY II storage ring\n",
    "\n",
    "**Setup:**\n",
    "- Install C compiler: `apt install gcc`\n",
    "- Install apace:`pip install -U apace`\n",
    "\n",
    "For more info see https://apace.readthedocs.io/en/latest/"
   ]
  },
  {
   "cell_type": "markdown",
   "metadata": {},
   "source": [
    "### Combinations of quadrupoles\n",
    "\n",
    "Define combinations of quadrupoles to use for the fit"
   ]
  },
  {
   "cell_type": "code",
   "execution_count": null,
   "metadata": {},
   "outputs": [],
   "source": [
    "quads_t2 = (\"Q3T2\", \"Q4T2\", \"Q5T2\")\n",
    "quads_d2_d3 = quads_t2 + (\"Q3D2\", \"Q4D2\", \"Q3D3\", \"Q4D3\")\n",
    "quads_t1_t3 = quads_d2_d3 + (\"Q3P1T1\", \"Q3P2T1\", \"Q4P1T1\", \"Q4P2T1\", \"Q5P1T1\", \"Q5P2T1\", \"Q3T3\", \"Q4T3\", \"Q5T3\")\n",
    "quads_d1_d4 = quads_t1_t3 + (\"Q3D1\", \"Q4D1\", \"Q3D4\", \"Q4D4\")"
   ]
  },
  {
   "cell_type": "markdown",
   "metadata": {},
   "source": [
    "### Raise horizontal beta function to 15m\n",
    "\n",
    "- Fit beta functions to `beta_targets` while minizing the beta beat.\n",
    "- The beta beat within the interval of `mask` is ignored."
   ]
  },
  {
   "cell_type": "code",
   "execution_count": null,
   "metadata": {},
   "outputs": [],
   "source": [
    "import apace as ap\n",
    "from apace.plot import twiss_plot\n",
    "import numpy as np\n",
    "from scipy.optimize import minimize"
   ]
  },
  {
   "cell_type": "code",
   "execution_count": null,
   "metadata": {
    "scrolled": false
   },
   "outputs": [],
   "source": [
    "# OPTIONS\n",
    "url = \"https://raw.githubusercontent.com/NoBeam/lattices/master/b2_stduser_2019_05_07.json\"\n",
    "fit_element_names = quads_d2_d3\n",
    "mask = 40.5, 49.5\n",
    "# mask = 35, 55\n",
    "beta_targets = [(45, 15, 'x'),]  # position, value, plane\n",
    "method = \"Nelder-Mead\"\n",
    "n_iterations = 10\n",
    "n_points = 1000\n",
    "attributes = [\"k1\"] * len(fit_element_names)\n",
    "max_value = 3\n",
    "\n",
    "# SETUP\n",
    "bessy2_fit = ap.Lattice.from_file(url)\n",
    "twiss_fit = ap.Twiss(bessy2_fit)\n",
    "bessy2_ref = ap.Lattice.from_file(url)\n",
    "twiss_ref = ap.Twiss(bessy2_ref)\n",
    "\n",
    "fit_elements = [bessy2_fit[name] for name in fit_element_names]\n",
    "linspace = np.linspace(0, bessy2_fit.length, n_points)\n",
    "positions = np.array([x for x in linspace if not (mask[0] < x < mask[1])])\n",
    "ref_beta_x = np.interp(positions, twiss_ref.s, twiss_ref.beta_x)\n",
    "ref_beta_y = np.interp(positions, twiss_ref.s, twiss_ref.beta_y)\n",
    "targets_indices = [np.searchsorted(twiss_ref.s, target[0]) for target in beta_targets]\n",
    "\n",
    "# FITNESS FUNCTION\n",
    "def fitness_function(params):\n",
    "    for param, element, attribute in zip(params, fit_elements, attributes):\n",
    "        value = max(min(param, max_value), -max_value)\n",
    "        setattr(element, attribute, value)\n",
    "\n",
    "    if not twiss_fit.stable:\n",
    "        return float(\"inf\")\n",
    "\n",
    "    beta_x = np.interp(positions, twiss_fit.s, twiss_fit.beta_x)\n",
    "    beta_y = np.interp(positions, twiss_fit.s, twiss_fit.beta_y)\n",
    "    beta_x_beat = beta_x / ref_beta_x\n",
    "    beta_y_beat = beta_y / ref_beta_y\n",
    "    beta_x_beat[beta_x_beat < 1] = 1\n",
    "    beta_y_beat[beta_y_beat < 1] = 1\n",
    "    beta_x_beat **= 4\n",
    "    beta_y_beat **= 4\n",
    "\n",
    "    target_sum = 0\n",
    "    for index, (pos, target_value, plane) in zip(targets_indices, beta_targets):\n",
    "        beta = twiss_fit.beta_x if plane == 'x' else twiss_fit.beta_y\n",
    "        current_value = beta[index]\n",
    "        target_sum += abs(beta[index - 1] - beta[index + 1]) / 5 # force symmetry\n",
    "        target_sum += (i + 1) / n_iterations * abs(current_value - target_value) ** 4 / target_value\n",
    "\n",
    "    return np.mean([beta_x_beat, beta_y_beat]) + target_sum\n",
    "\n",
    "# MINIMIZE\n",
    "for i in range(n_iterations):\n",
    "    start_values = np.array([getattr(*item) for item in zip(fit_elements, attributes)])\n",
    "    if i == 0: \n",
    "        initial_values = start_values\n",
    "\n",
    "    res = minimize(fitness_function, start_values, method=method)\n",
    "    print(f'iteration: {i + 1}/{n_iterations}, result: {res.fun:.3f}')\n",
    "\n",
    "# OUTPUT RESULTS\n",
    "for element, attribute, initial_value in zip(fit_elements, attributes, initial_values):\n",
    "    print(f\"{element.name}: {attribute} = {getattr(element, attribute):.3f} ({initial_value:.3f})\")\n",
    "print(\"\\n\")\n",
    "\n",
    "# PLOT\n",
    "_ = twiss_plot(twiss_fit, ref_twiss=twiss_ref, sections=(30,60), fig_size=(9,5))"
   ]
  },
  {
   "cell_type": "markdown",
   "metadata": {},
   "source": [
    "### Multiknob between `fit_lattice` and `ref_lattice`"
   ]
  },
  {
   "cell_type": "code",
   "execution_count": null,
   "metadata": {},
   "outputs": [],
   "source": [
    "bessy2_int = ap.Lattice.from_file(url)\n",
    "\n",
    "from ipywidgets import interact\n",
    "@interact(factor=0.0, min=0.0, max=1.0, step=0.1)\n",
    "def update_twiss_plot(factor):\n",
    "    for name, attribute in zip(fit_element_names, attributes):\n",
    "        value_fit = getattr(bessy2_fit[name], attribute)\n",
    "        value_ref = getattr(bessy2_ref[name], attribute)\n",
    "        value_int = factor * value_fit + (1 - factor) * value_ref\n",
    "        setattr(bessy2_int[name], attribute, value_int)\n",
    "\n",
    "    _ = twiss_plot(ap.Twiss(bessy2_int), ref_twiss=twiss_ref, sections=(30,60), fig_size=(9,5), y_max=30)"
   ]
  },
  {
   "cell_type": "markdown",
   "metadata": {},
   "source": [
    "### Export `Lattice` object as LatticeJSON"
   ]
  },
  {
   "cell_type": "code",
   "execution_count": null,
   "metadata": {},
   "outputs": [],
   "source": [
    "bessy2_int.as_dict()"
   ]
  }
 ],
 "metadata": {
  "kernelspec": {
   "display_name": "Python 3",
   "language": "python",
   "name": "python3"
  },
  "language_info": {
   "codemirror_mode": {
    "name": "ipython",
    "version": 3
   },
   "file_extension": ".py",
   "mimetype": "text/x-python",
   "name": "python",
   "nbconvert_exporter": "python",
   "pygments_lexer": "ipython3",
   "version": "3.7.4"
  }
 },
 "nbformat": 4,
 "nbformat_minor": 4
}
