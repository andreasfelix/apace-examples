{
 "cells": [
  {
   "cell_type": "markdown",
   "metadata": {},
   "source": [
    "\n",
    "# Create a necktie plot\n",
    "\n",
    "\n",
    "This example notebook demonstrates as a basic example how sphinx-nbexamples\n",
    "works.\n"
   ]
  },
  {
   "cell_type": "code",
   "execution_count": 9,
   "metadata": {},
   "outputs": [],
   "source": [
    "import numpy as np\n",
    "import matplotlib as mpl\n",
    "import matplotlib.pyplot as plt\n",
    "import apace as ap\n",
    "import itertools"
   ]
  },
  {
   "cell_type": "code",
   "execution_count": 22,
   "metadata": {},
   "outputs": [
    {
     "name": "stdout",
     "output_type": "stream",
     "text": [
      "99\n"
     ]
    },
    {
     "ename": "IndexError",
     "evalue": "index 99 is out of bounds for axis 0 with size 2",
     "output_type": "error",
     "traceback": [
      "\u001b[0;31m---------------------------------------------------------------------------\u001b[0m",
      "\u001b[0;31mIndexError\u001b[0m                                Traceback (most recent call last)",
      "\u001b[0;32m<ipython-input-22-4f15496c93f7>\u001b[0m in \u001b[0;36m<module>\u001b[0;34m\u001b[0m\n\u001b[1;32m     29\u001b[0m     \u001b[0mx\u001b[0m\u001b[0;34m,\u001b[0m \u001b[0my\u001b[0m \u001b[0;34m=\u001b[0m \u001b[0mnp\u001b[0m\u001b[0;34m.\u001b[0m\u001b[0mmeshgrid\u001b[0m\u001b[0;34m(\u001b[0m\u001b[0mq1_values\u001b[0m\u001b[0;34m,\u001b[0m \u001b[0;34m-\u001b[0m\u001b[0mq2_values\u001b[0m\u001b[0;34m)\u001b[0m\u001b[0;34m\u001b[0m\u001b[0;34m\u001b[0m\u001b[0m\n\u001b[1;32m     30\u001b[0m     \u001b[0mCS\u001b[0m \u001b[0;34m=\u001b[0m \u001b[0mplt\u001b[0m\u001b[0;34m.\u001b[0m\u001b[0mcontour\u001b[0m\u001b[0;34m(\u001b[0m\u001b[0mx\u001b[0m\u001b[0;34m,\u001b[0m \u001b[0my\u001b[0m\u001b[0;34m,\u001b[0m \u001b[0mstable\u001b[0m\u001b[0;34m)\u001b[0m\u001b[0;34m\u001b[0m\u001b[0;34m\u001b[0m\u001b[0m\n\u001b[0;32m---> 31\u001b[0;31m     \u001b[0maxs\u001b[0m\u001b[0;34m[\u001b[0m\u001b[0mi\u001b[0m\u001b[0;34m]\u001b[0m\u001b[0;34m.\u001b[0m\u001b[0mxlabel\u001b[0m\u001b[0;34m(\u001b[0m\u001b[0;34mf'{q1.name} k1 / m$^{{-1}}$'\u001b[0m\u001b[0;34m)\u001b[0m\u001b[0;34m\u001b[0m\u001b[0;34m\u001b[0m\u001b[0m\n\u001b[0m\u001b[1;32m     32\u001b[0m     \u001b[0maxs\u001b[0m\u001b[0;34m[\u001b[0m\u001b[0mi\u001b[0m\u001b[0;34m]\u001b[0m\u001b[0;34m.\u001b[0m\u001b[0mylabel\u001b[0m\u001b[0;34m(\u001b[0m\u001b[0;34mf'{q2.name} -k1 / m$^{{-1}}$'\u001b[0m\u001b[0;34m)\u001b[0m\u001b[0;34m\u001b[0m\u001b[0;34m\u001b[0m\u001b[0m\n\u001b[1;32m     33\u001b[0m \u001b[0;34m\u001b[0m\u001b[0m\n",
      "\u001b[0;31mIndexError\u001b[0m: index 99 is out of bounds for axis 0 with size 2"
     ]
    },
    {
     "data": {
      "image/png": "[encoded data removed]",
      "text/plain": [
       "<Figure size 648x216 with 4 Axes>"
      ]
     },
     "metadata": {
      "needs_background": "light"
     },
     "output_type": "display_data"
    }
   ],
   "source": [
    "url = \"https://raw.githubusercontent.com/NoBeam/lattices/master/b2_stduser_2019_05_07.json\"\n",
    "lattice = ap.Lattice.from_file(url)\n",
    "twiss = ap.Twiss(lattice)\n",
    "quads = \"Q5T2\", \"Q4T2\", \"Q3T2\"\n",
    "combinations = list(itertools.combinations(quads, 2))\n",
    "n_combinations = len(combinations)\n",
    "fig, axs = plt.subplots(n_combinations // 2 + 1, 2, figsize=(9, 3))\n",
    "\n",
    "for i, (name_1, name_2) in enumerate(combinations):\n",
    "    q1 = lattice[name_1]\n",
    "    q2 = lattice[name_2]\n",
    "    q1_initial = q1.k1\n",
    "    q2_initial = q2.k1\n",
    "    n_steps = 100\n",
    "    k1_start = -3\n",
    "    k1_end = 3\n",
    "\n",
    "    q1_values = np.linspace(k1_start, k1_end, n_steps)\n",
    "    q2_values = np.linspace(k1_start, k1_end, n_steps)\n",
    "    stable = np.empty((n_steps, n_steps), dtype=bool)\n",
    "\n",
    "    for i, q1.k1 in enumerate(q1_values):\n",
    "        for j, q2.k1  in enumerate(q2_values):\n",
    "            stable[i, j] = twiss.stable\n",
    "            \n",
    "    q1.k1 = q1_initial\n",
    "    q1.k2 = q2_initial\n",
    "    print(i)\n",
    "    x, y = np.meshgrid(q1_values, -q2_values)\n",
    "    CS = plt.contour(x, y, stable)\n",
    "    axs[i].xlabel(f'{q1.name} k1 / m$^{{-1}}$')\n",
    "    axs[i].ylabel(f'{q2.name} -k1 / m$^{{-1}}$')\n",
    "    \n",
    "plt.show()"
   ]
  }
 ],
 "metadata": {
  "kernelspec": {
   "display_name": "Python 3",
   "language": "python",
   "name": "python3"
  },
  "language_info": {
   "codemirror_mode": {
    "name": "ipython",
    "version": 3
   },
   "file_extension": ".py",
   "mimetype": "text/x-python",
   "name": "python",
   "nbconvert_exporter": "python",
   "pygments_lexer": "ipython3",
   "version": "3.7.4"
  }
 },
 "nbformat": 4,
 "nbformat_minor": 4
}
